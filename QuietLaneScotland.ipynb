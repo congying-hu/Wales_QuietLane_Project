{
 "cells": [
  {
   "cell_type": "markdown",
   "id": "3d657279-1b5d-4125-8a97-c34b69166724",
   "metadata": {},
   "source": [
    "# Define file path"
   ]
  },
  {
   "cell_type": "code",
   "execution_count": 2,
   "id": "c1c7d0e2-a67e-4865-95fc-2f6736d6056c",
   "metadata": {},
   "outputs": [],
   "source": [
    "import geopandas as gpd\n",
    "import pandas as pd\n",
    "import numpy as np"
   ]
  },
  {
   "cell_type": "code",
   "execution_count": 6,
   "id": "f7edb443-33ca-4c60-9bed-bb926e4afa38",
   "metadata": {},
   "outputs": [],
   "source": [
    "# Replace with Wales Agilysis\n",
    "agilysis_file_path = \"Data/Sustran.gpkg\"\n",
    "# Replace with Wales NCN\n",
    "ncn_file_path = \"Data/National_Cycle_Network_(Public).geojson\"\n",
    "# Replace with Wales Urban and Rural Boundary\n",
    "urban_rural_boundary_filepath = 'Data/SG_UrbanRural_2020/SG_UrbanRural_2020.shp'"
   ]
  },
  {
   "cell_type": "code",
   "execution_count": 10,
   "id": "9971dada-b635-486e-abac-7985d8b008dd",
   "metadata": {},
   "outputs": [],
   "source": [
    "# Read Agilysis data\n",
    "agilysis = gpd.read_file(agilysis_file_path)\n",
    "\n",
    "# Transfer the coordinate reference system\n",
    "agilysis=agilysis.to_crs(epsg=27700) "
   ]
  },
  {
   "cell_type": "code",
   "execution_count": 9,
   "id": "210bf8bf-2e12-4cb3-b2bb-11b380d600b2",
   "metadata": {},
   "outputs": [],
   "source": [
    "# Read the ncn data\n",
    "ncn = gpd.read_file(ncn_file_path)\n",
    "\n",
    "# Transfer the coordinate reference system\n",
    "ncn=ncn.to_crs(epsg=27700) "
   ]
  },
  {
   "cell_type": "code",
   "execution_count": 11,
   "id": "62bddd4f-8d0f-4dc4-b1cf-c5901f8dcc18",
   "metadata": {},
   "outputs": [],
   "source": [
    "# Read urban and rural boundary data\n",
    "UrbanRural = gpd.read_file(urban_rural_boundary_filepath)\n",
    "\n",
    "# Transfer the coordinate reference system\n",
    "UrbanRural=UrbanRural.to_crs(epsg=27700) "
   ]
  },
  {
   "cell_type": "code",
   "execution_count": 17,
   "id": "f2cab481-834e-4ed4-9609-06ce6ec82ad0",
   "metadata": {},
   "outputs": [
    {
     "name": "stdout",
     "output_type": "stream",
     "text": [
      "['Large Urban Areas' 'Other Urban Areas' 'Accessible Small Towns'\n",
      " 'Remote Small Towns' 'Very Remote Small Towns' 'Accessible Rural Areas'\n",
      " 'Remote Rural Areas' 'Very Remote Rural Areas']\n",
      "['Large Urban Areas' 'Other Urban Areas' 'Accessible Small Towns'\n",
      " 'Remote Small Towns' 'Accessible Rural Areas' 'Remote Rural Areas']\n",
      "['Rest of Scotland' 'Accessible Rural Areas' 'Remote Rural Areas']\n"
     ]
    },
    {
     "data": {
      "text/html": [
       "<div>\n",
       "<style scoped>\n",
       "    .dataframe tbody tr th:only-of-type {\n",
       "        vertical-align: middle;\n",
       "    }\n",
       "\n",
       "    .dataframe tbody tr th {\n",
       "        vertical-align: top;\n",
       "    }\n",
       "\n",
       "    .dataframe thead th {\n",
       "        text-align: right;\n",
       "    }\n",
       "</style>\n",
       "<table border=\"1\" class=\"dataframe\">\n",
       "  <thead>\n",
       "    <tr style=\"text-align: right;\">\n",
       "      <th></th>\n",
       "      <th>OS Link ID</th>\n",
       "      <th>Road Classification</th>\n",
       "      <th>Road Classification Number</th>\n",
       "      <th>Form of Way</th>\n",
       "      <th>Length (km)</th>\n",
       "      <th>Trunk Road</th>\n",
       "      <th>Highway Authority Code</th>\n",
       "      <th>Highway Authority Name</th>\n",
       "      <th>Speed Limit (mph)</th>\n",
       "      <th>Speed Limit Evidence date</th>\n",
       "      <th>...</th>\n",
       "      <th>UR8Desc</th>\n",
       "      <th>UR6Class</th>\n",
       "      <th>UR6Name</th>\n",
       "      <th>UR6Desc</th>\n",
       "      <th>UR3Class</th>\n",
       "      <th>UR3Name</th>\n",
       "      <th>UR3Desc</th>\n",
       "      <th>UR2Class</th>\n",
       "      <th>UR2Name</th>\n",
       "      <th>UR2Desc</th>\n",
       "    </tr>\n",
       "  </thead>\n",
       "  <tbody>\n",
       "    <tr>\n",
       "      <th>0</th>\n",
       "      <td>osgb4000000004292146</td>\n",
       "      <td>Classified Unnumbered</td>\n",
       "      <td>None</td>\n",
       "      <td>Single Carriageway</td>\n",
       "      <td>2.209182</td>\n",
       "      <td>false</td>\n",
       "      <td>S12000030</td>\n",
       "      <td>Stirling</td>\n",
       "      <td>60</td>\n",
       "      <td>NaT</td>\n",
       "      <td>...</td>\n",
       "      <td>Areas with a population of less than 3,000 peo...</td>\n",
       "      <td>6</td>\n",
       "      <td>Remote Rural Areas</td>\n",
       "      <td>Areas with a population of less than 3,000 peo...</td>\n",
       "      <td>3</td>\n",
       "      <td>Remote Rural Areas</td>\n",
       "      <td>Areas of less than 3,000 people and with a dri...</td>\n",
       "      <td>2</td>\n",
       "      <td>Rural Areas</td>\n",
       "      <td>Areas of less than 3,000 people</td>\n",
       "    </tr>\n",
       "    <tr>\n",
       "      <th>1</th>\n",
       "      <td>osgb4000000004292268</td>\n",
       "      <td>Unclassified</td>\n",
       "      <td>None</td>\n",
       "      <td>Single Carriageway</td>\n",
       "      <td>1.308137</td>\n",
       "      <td>false</td>\n",
       "      <td>S12000030</td>\n",
       "      <td>Stirling</td>\n",
       "      <td>30</td>\n",
       "      <td>NaT</td>\n",
       "      <td>...</td>\n",
       "      <td>Areas with a population of less than 3,000 peo...</td>\n",
       "      <td>6</td>\n",
       "      <td>Remote Rural Areas</td>\n",
       "      <td>Areas with a population of less than 3,000 peo...</td>\n",
       "      <td>3</td>\n",
       "      <td>Remote Rural Areas</td>\n",
       "      <td>Areas of less than 3,000 people and with a dri...</td>\n",
       "      <td>2</td>\n",
       "      <td>Rural Areas</td>\n",
       "      <td>Areas of less than 3,000 people</td>\n",
       "    </tr>\n",
       "    <tr>\n",
       "      <th>2</th>\n",
       "      <td>osgb4000000004292271</td>\n",
       "      <td>A Road</td>\n",
       "      <td>A84</td>\n",
       "      <td>Single Carriageway</td>\n",
       "      <td>2.058606</td>\n",
       "      <td>true</td>\n",
       "      <td>S12000030</td>\n",
       "      <td>Stirling</td>\n",
       "      <td>60</td>\n",
       "      <td>2018-09-25</td>\n",
       "      <td>...</td>\n",
       "      <td>Areas with a population of less than 3,000 peo...</td>\n",
       "      <td>6</td>\n",
       "      <td>Remote Rural Areas</td>\n",
       "      <td>Areas with a population of less than 3,000 peo...</td>\n",
       "      <td>3</td>\n",
       "      <td>Remote Rural Areas</td>\n",
       "      <td>Areas of less than 3,000 people and with a dri...</td>\n",
       "      <td>2</td>\n",
       "      <td>Rural Areas</td>\n",
       "      <td>Areas of less than 3,000 people</td>\n",
       "    </tr>\n",
       "    <tr>\n",
       "      <th>3</th>\n",
       "      <td>osgb4000000004292724</td>\n",
       "      <td>Classified Unnumbered</td>\n",
       "      <td>None</td>\n",
       "      <td>Single Carriageway</td>\n",
       "      <td>0.656623</td>\n",
       "      <td>false</td>\n",
       "      <td>S12000030</td>\n",
       "      <td>Stirling</td>\n",
       "      <td>60</td>\n",
       "      <td>NaT</td>\n",
       "      <td>...</td>\n",
       "      <td>Areas with a population of less than 3,000 peo...</td>\n",
       "      <td>5</td>\n",
       "      <td>Accessible Rural Areas</td>\n",
       "      <td>Areas with a population of less than 3,000 peo...</td>\n",
       "      <td>2</td>\n",
       "      <td>Accessible Rural Areas</td>\n",
       "      <td>Areas of less than 3,000 people and within 30 ...</td>\n",
       "      <td>2</td>\n",
       "      <td>Rural Areas</td>\n",
       "      <td>Areas of less than 3,000 people</td>\n",
       "    </tr>\n",
       "    <tr>\n",
       "      <th>4</th>\n",
       "      <td>osgb4000000004292780</td>\n",
       "      <td>Unknown</td>\n",
       "      <td>None</td>\n",
       "      <td>Single Carriageway</td>\n",
       "      <td>0.614588</td>\n",
       "      <td>false</td>\n",
       "      <td>S12000030</td>\n",
       "      <td>Stirling</td>\n",
       "      <td>30</td>\n",
       "      <td>NaT</td>\n",
       "      <td>...</td>\n",
       "      <td>Areas with a population of less than 3,000 peo...</td>\n",
       "      <td>6</td>\n",
       "      <td>Remote Rural Areas</td>\n",
       "      <td>Areas with a population of less than 3,000 peo...</td>\n",
       "      <td>3</td>\n",
       "      <td>Remote Rural Areas</td>\n",
       "      <td>Areas of less than 3,000 people and with a dri...</td>\n",
       "      <td>2</td>\n",
       "      <td>Rural Areas</td>\n",
       "      <td>Areas of less than 3,000 people</td>\n",
       "    </tr>\n",
       "  </tbody>\n",
       "</table>\n",
       "<p>5 rows × 161 columns</p>\n",
       "</div>"
      ],
      "text/plain": [
       "             OS Link ID    Road Classification Road Classification Number  \\\n",
       "0  osgb4000000004292146  Classified Unnumbered                       None   \n",
       "1  osgb4000000004292268           Unclassified                       None   \n",
       "2  osgb4000000004292271                 A Road                        A84   \n",
       "3  osgb4000000004292724  Classified Unnumbered                       None   \n",
       "4  osgb4000000004292780                Unknown                       None   \n",
       "\n",
       "          Form of Way  Length (km) Trunk Road Highway Authority Code  \\\n",
       "0  Single Carriageway     2.209182      false              S12000030   \n",
       "1  Single Carriageway     1.308137      false              S12000030   \n",
       "2  Single Carriageway     2.058606       true              S12000030   \n",
       "3  Single Carriageway     0.656623      false              S12000030   \n",
       "4  Single Carriageway     0.614588      false              S12000030   \n",
       "\n",
       "  Highway Authority Name  Speed Limit (mph) Speed Limit Evidence date  ...  \\\n",
       "0               Stirling                 60                       NaT  ...   \n",
       "1               Stirling                 30                       NaT  ...   \n",
       "2               Stirling                 60                2018-09-25  ...   \n",
       "3               Stirling                 60                       NaT  ...   \n",
       "4               Stirling                 30                       NaT  ...   \n",
       "\n",
       "                                             UR8Desc UR6Class  \\\n",
       "0  Areas with a population of less than 3,000 peo...        6   \n",
       "1  Areas with a population of less than 3,000 peo...        6   \n",
       "2  Areas with a population of less than 3,000 peo...        6   \n",
       "3  Areas with a population of less than 3,000 peo...        5   \n",
       "4  Areas with a population of less than 3,000 peo...        6   \n",
       "\n",
       "                  UR6Name                                            UR6Desc  \\\n",
       "0      Remote Rural Areas  Areas with a population of less than 3,000 peo...   \n",
       "1      Remote Rural Areas  Areas with a population of less than 3,000 peo...   \n",
       "2      Remote Rural Areas  Areas with a population of less than 3,000 peo...   \n",
       "3  Accessible Rural Areas  Areas with a population of less than 3,000 peo...   \n",
       "4      Remote Rural Areas  Areas with a population of less than 3,000 peo...   \n",
       "\n",
       "   UR3Class                 UR3Name  \\\n",
       "0         3      Remote Rural Areas   \n",
       "1         3      Remote Rural Areas   \n",
       "2         3      Remote Rural Areas   \n",
       "3         2  Accessible Rural Areas   \n",
       "4         3      Remote Rural Areas   \n",
       "\n",
       "                                             UR3Desc  UR2Class      UR2Name  \\\n",
       "0  Areas of less than 3,000 people and with a dri...         2  Rural Areas   \n",
       "1  Areas of less than 3,000 people and with a dri...         2  Rural Areas   \n",
       "2  Areas of less than 3,000 people and with a dri...         2  Rural Areas   \n",
       "3  Areas of less than 3,000 people and within 30 ...         2  Rural Areas   \n",
       "4  Areas of less than 3,000 people and with a dri...         2  Rural Areas   \n",
       "\n",
       "                           UR2Desc  \n",
       "0  Areas of less than 3,000 people  \n",
       "1  Areas of less than 3,000 people  \n",
       "2  Areas of less than 3,000 people  \n",
       "3  Areas of less than 3,000 people  \n",
       "4  Areas of less than 3,000 people  \n",
       "\n",
       "[5 rows x 161 columns]"
      ]
     },
     "execution_count": 17,
     "metadata": {},
     "output_type": "execute_result"
    }
   ],
   "source": [
    "# Preview the appropriate values for selection\n",
    "print(UrbanRural[\"UR8Name\"].unique())\n",
    "print(UrbanRural[\"UR6Name\"].unique())\n",
    "print(UrbanRural[\"UR3Name\"].unique())\n",
    "\n",
    "# Filter out agilysis roads within rural area\n",
    "rural_areas = UrbanRural[\n",
    "    UrbanRural[\"UR3Name\"].isin([\"Accessible Rural Areas\", \"Remote Rural Areas\"])]\n",
    "\n",
    "agilysis_rural = gpd.sjoin(agilysis, rural_areas, how=\"inner\", predicate=\"intersects\")\n",
    "agilysis_rural = agilysis_rural.drop(columns=[\"index_right\"])\n",
    "\n",
    "agilysis_rural.head()"
   ]
  },
  {
   "cell_type": "code",
   "execution_count": 20,
   "id": "587b07e9-6f0a-4b17-a135-c14702ae294f",
   "metadata": {},
   "outputs": [
    {
     "data": {
      "text/plain": [
       "9583"
      ]
     },
     "execution_count": 20,
     "metadata": {},
     "output_type": "execute_result"
    }
   ],
   "source": [
    "len(agilysis_rural)"
   ]
  },
  {
   "cell_type": "markdown",
   "id": "5018b39c-2908-46f5-b528-65a26e18728f",
   "metadata": {},
   "source": [
    "## Save the spatial file"
   ]
  },
  {
   "cell_type": "code",
   "execution_count": 21,
   "id": "5ef00c11-973f-4576-9b55-0b558f6ec794",
   "metadata": {},
   "outputs": [],
   "source": [
    "# Save the shapefile incase we need to re-run this long process\n",
    "agilysis_rural.to_file(\"Data/agilysis_rural.geojson\", driver=\"GeoJSON\")"
   ]
  },
  {
   "cell_type": "code",
   "execution_count": 22,
   "id": "0b6a12d9-d234-4c82-b47a-06ec60aed99c",
   "metadata": {},
   "outputs": [],
   "source": [
    "# Read the file to prevent overwriting\n",
    "agilysis_rural_saved = gpd.read_file('Data/agilysis_rural.geojson')"
   ]
  },
  {
   "cell_type": "code",
   "execution_count": 23,
   "id": "9ebfb369-9241-4bb2-996d-7a614b8c4125",
   "metadata": {},
   "outputs": [
    {
     "data": {
      "text/plain": [
       "array(['Classified Unnumbered', 'Unclassified', 'A Road', 'Unknown',\n",
       "       'Not Classified', 'B Road', 'Motorway'], dtype=object)"
      ]
     },
     "execution_count": 23,
     "metadata": {},
     "output_type": "execute_result"
    }
   ],
   "source": [
    "# What road type are there in the dataset?\n",
    "agilysis_rural_saved['Road Classification'].unique()"
   ]
  },
  {
   "cell_type": "code",
   "execution_count": 39,
   "id": "29c22644-e47c-4555-9c21-e48feb040e5a",
   "metadata": {},
   "outputs": [],
   "source": [
    "# Filter rows where road type is not classified. Note there is no minor road in this dataset. \n",
    "agilysis_rural_roadtype = agilysis_rural_saved[\n",
    "    agilysis_rural_saved[\"Road Classification\"].isin([\n",
    "        \"Classified Unnumbered\", \"Unclassified\", \"Unknown\", \"Not Classified\"\n",
    "    ])\n",
    "]\n"
   ]
  },
  {
   "cell_type": "code",
   "execution_count": 41,
   "id": "796d1a34-500c-40b2-b203-03f8c7cd27a6",
   "metadata": {},
   "outputs": [
    {
     "data": {
      "text/plain": [
       "6855"
      ]
     },
     "execution_count": 41,
     "metadata": {},
     "output_type": "execute_result"
    }
   ],
   "source": [
    "# Length of the dataset are reduced from 9538 to 6855\n",
    "len(agilysis_rural_roadtype)"
   ]
  },
  {
   "cell_type": "code",
   "execution_count": 42,
   "id": "7eab705b-6bfe-4333-bef6-2c0fb34b3785",
   "metadata": {},
   "outputs": [],
   "source": [
    "# Filter rows where traffic volume is smaller than 1000vph\n",
    "agilysis_rural_aadt = agilysis_rural_roadtype[\n",
    "    agilysis_rural_roadtype[\"Modelled AADT\"] <= 1000\n",
    "]"
   ]
  },
  {
   "cell_type": "code",
   "execution_count": 44,
   "id": "0b71470e-d381-4ccd-b355-7fa8b02691b3",
   "metadata": {},
   "outputs": [
    {
     "data": {
      "text/plain": [
       "5112"
      ]
     },
     "execution_count": 44,
     "metadata": {},
     "output_type": "execute_result"
    }
   ],
   "source": [
    "# Length reduce from 6855 to 5112\n",
    "len(agilysis_rural_aadt)"
   ]
  },
  {
   "cell_type": "code",
   "execution_count": 49,
   "id": "36b430ae-826f-41fe-a6f4-f13709c26bc1",
   "metadata": {},
   "outputs": [],
   "source": [
    "# Filter rows where traffic speed is lower than 33mph\n",
    "agilysis_rural_speed = agilysis_rural_aadt[\n",
    "    agilysis_rural_aadt['85th %ile Speed - All Day'] <= 33\n",
    "]"
   ]
  },
  {
   "cell_type": "code",
   "execution_count": 50,
   "id": "975bfb7d-25da-42fe-94d6-629df255ea4b",
   "metadata": {},
   "outputs": [
    {
     "data": {
      "text/plain": [
       "3201"
      ]
     },
     "execution_count": 50,
     "metadata": {},
     "output_type": "execute_result"
    }
   ],
   "source": [
    "# Length reduce from 5112 to 3201\n",
    "len(agilysis_rural_speed)"
   ]
  },
  {
   "cell_type": "code",
   "execution_count": null,
   "id": "a4bad726-6aa7-4ffa-a2e2-69074515b17a",
   "metadata": {},
   "outputs": [],
   "source": [
    "# Save the shapefile incase we need to re-run this long process\n",
    "agilysis_rural_speed.to_file(\"Data/QuietLaneScotland.geojson\", driver=\"GeoJSON\")"
   ]
  },
  {
   "cell_type": "code",
   "execution_count": 60,
   "id": "e72e10a5-9e01-4845-8639-34ec4ec21af3",
   "metadata": {},
   "outputs": [],
   "source": [
    "import folium\n",
    "\n",
    "# --- 0) Make WGS84 copies for web maps  ---\n",
    "roads_wgs = agilysis_rural_speed.to_crs(4326)\n",
    "boundary_wgs = rural_areas.to_crs(4326)   # or UrbanRural/to your subset\n",
    "\n",
    "# --- 1) Get a safe map center  ---\n",
    "# Use total_bounds to avoid heavy unions:\n",
    "minx, miny, maxx, maxy = roads_wgs.total_bounds\n",
    "center = [(miny + maxy) / 2, (minx + maxx) / 2]\n",
    "\n",
    "# --- 2) Make all properties JSON-serializable (convert Timestamps to str) ---\n",
    "def make_json_safe(gdf):\n",
    "    gdf = gdf.copy()\n",
    "    for col in gdf.select_dtypes(include=[\"datetime64[ns]\", \"datetime64[ns, UTC]\"]).columns:\n",
    "        gdf[col] = gdf[col].astype(str)\n",
    "    return gdf\n",
    "\n",
    "roads_wgs = make_json_safe(roads_wgs)\n",
    "boundary_wgs = make_json_safe(boundary_wgs)\n",
    "\n",
    "# drop wide/unused columns to keep the GeoJSON light\n",
    "keep_cols = [\"Modelled AADT\", \"Road Classification\", \"geometry\"] \n",
    "roads_wgs = roads_wgs[[c for c in keep_cols if c in roads_wgs.columns]]\n",
    "\n",
    "# --- 3) Build the map ---\n",
    "m = folium.Map(location=center, zoom_start=9, tiles=\"cartodbpositron\")\n",
    "\n",
    "# Add boundary polygons first (grey outline)\n",
    "folium.GeoJson(\n",
    "    boundary_wgs.to_json(),\n",
    "    name=\"Rural Areas\",\n",
    "    style_function=lambda f: {\n",
    "        \"fillColor\": \"lightgrey\",   # grey fill\n",
    "        \"color\": \"white\",           # border line color\n",
    "        \"weight\": 1,\n",
    "        \"fillOpacity\": 0.5,         # transparency of fill\n",
    "        \"opacity\": 0.7,\n",
    "    },\n",
    "    tooltip=folium.GeoJsonTooltip(fields=[\"UR3Name\"], aliases=[\"Area Type\"])\n",
    ").add_to(m)\n",
    "\n",
    "# Add roads, with a simple style by AADT (thin lines)\n",
    "def road_style(feat):\n",
    "    aadt = feat[\"properties\"].get(\"Modelled AADT\", None)\n",
    "    # simple 3-break ramp; tweak as needed\n",
    "    if aadt is None:\n",
    "        weight = 1\n",
    "    elif aadt <= 250:\n",
    "        weight = 2\n",
    "    elif aadt <= 500:\n",
    "        weight = 3\n",
    "    elif aadt <= 1000:\n",
    "        weight = 4\n",
    "    else:\n",
    "        weight = 5\n",
    "    return {\"color\": \"#1f77b4\", \"weight\": weight, \"opacity\": 0.9}\n",
    "\n",
    "folium.GeoJson(\n",
    "    roads_wgs.to_json(),\n",
    "    name=\"Agilysis Rural Roads\",\n",
    "    style_function=road_style,\n",
    "    tooltip=folium.GeoJsonTooltip(\n",
    "        fields=[c for c in [\"Road Classification\", \"Modelled AADT\"] if c in roads_wgs.columns],\n",
    "        aliases=[\"Classification\", \"AADT\"],\n",
    "        sticky=True,\n",
    "    ),\n",
    ").add_to(m)\n",
    "\n",
    "folium.LayerControl(collapsed=False).add_to(m)\n",
    "\n",
    "m.save(\"agilysis_rural_quiet_lane_map.html\")\n"
   ]
  },
  {
   "cell_type": "code",
   "execution_count": null,
   "id": "9710955c-f44f-42dd-80d0-fd71c36a80b5",
   "metadata": {},
   "outputs": [],
   "source": []
  }
 ],
 "metadata": {
  "kernelspec": {
   "display_name": "Python 3 (ipykernel)",
   "language": "python",
   "name": "python3"
  },
  "language_info": {
   "codemirror_mode": {
    "name": "ipython",
    "version": 3
   },
   "file_extension": ".py",
   "mimetype": "text/x-python",
   "name": "python",
   "nbconvert_exporter": "python",
   "pygments_lexer": "ipython3",
   "version": "3.10.18"
  }
 },
 "nbformat": 4,
 "nbformat_minor": 5
}
